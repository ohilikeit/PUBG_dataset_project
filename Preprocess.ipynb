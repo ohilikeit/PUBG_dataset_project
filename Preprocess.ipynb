{
  "cells": [
    {
      "cell_type": "markdown",
      "metadata": {
        "id": "view-in-github",
        "colab_type": "text"
      },
      "source": [
        "<a href=\"https://colab.research.google.com/github/ohilikeit/PUBG_dataset_project/blob/main/Preprocess.ipynb\" target=\"_parent\"><img src=\"https://colab.research.google.com/assets/colab-badge.svg\" alt=\"Open In Colab\"/></a>"
      ]
    },
    {
      "cell_type": "markdown",
      "metadata": {
        "id": "CN0F-W0WWxoh"
      },
      "source": [
        "# Data Load"
      ]
    },
    {
      "cell_type": "code",
      "execution_count": null,
      "metadata": {
        "id": "KD0_-iL__MVp"
      },
      "outputs": [],
      "source": [
        "import os\n",
        "import numpy as np\n",
        "import warnings\n",
        "warnings.filterwarnings(action='ignore') # 경고 메세지 숨김\n",
        "import pandas as pd\n",
        "import seaborn as sns\n",
        "import tensorflow as tf\n",
        "import matplotlib.pyplot as plt\n",
        "\n",
        "raw_data = pd.read_csv('/content/drive/MyDrive/project1/data.csv')"
      ]
    },
    {
      "cell_type": "markdown",
      "metadata": {
        "id": "qNpAbH3JNPHc"
      },
      "source": [
        "# Preprocessing"
      ]
    },
    {
      "cell_type": "markdown",
      "metadata": {
        "id": "46mFhpSyNPHd"
      },
      "source": [
        "## 1) 특성 제거\n",
        "- Unnamed: 0 >> 불분명한 컬럼\n",
        "- Id >> 개인 식별자"
      ]
    },
    {
      "cell_type": "code",
      "execution_count": null,
      "metadata": {
        "id": "pOEzBc6nNPHd"
      },
      "outputs": [],
      "source": [
        "raw_data = raw_data.drop(['Unnamed: 0', 'Id'], axis=1)"
      ]
    },
    {
      "cell_type": "markdown",
      "metadata": {
        "id": "gGFbSl0FNPHf"
      },
      "source": [
        "## 2) 이상데이터 삭제 및 파생변수 생성"
      ]
    },
    {
      "cell_type": "code",
      "execution_count": null,
      "metadata": {
        "id": "NyIWGOLXNPHf"
      },
      "outputs": [],
      "source": [
        "# 매치 킬 1등인데 최종순위 최하인 데이터 없애기\n",
        "drop_index_1 = raw_data[(raw_data['killPlace'] == 1) & (raw_data['winPlacePerc'] == 0)].index\n",
        "raw_data.drop(drop_index_1, inplace=True)\n",
        "# 도보이동거리가 0인 데이터 삭제\n",
        "drop_index_2 = raw_data[raw_data['walkDistance'] == 0].index\n",
        "raw_data.drop(drop_index_2)\n",
        "# 그룹 별 인원수 구하기\n",
        "drop_index_3 = raw_data.groupby(['groupId']).size().to_frame('players_in_team')\n",
        "raw_data = raw_data.merge(drop_index_3, how='left', on=['groupId'])\n",
        "# 로드킬 5킬 이상 데이터 삭제\n",
        "drop_index_4 = raw_data[raw_data['roadKills'] >= 5].index\n",
        "raw_data.drop(drop_index_4, inplace=True)\n",
        "# 힐링 아이템 사용횟수 40번 이상 데이터 삭제\n",
        "drop_index_5 = raw_data[raw_data['heals'] >= 50].index\n",
        "raw_data.drop(drop_index_5, inplace=True)\n",
        "# 장거리 킬 중 800m 이상 데이터 삭제\n",
        "drop_index_6 = raw_data[raw_data['longestKill'] >= 800].index\n",
        "raw_data.drop(drop_index_6, inplace=True)\n",
        "# 도보이동거리 10000m 이상 데이터 삭제\n",
        "drop_index_7 = raw_data[raw_data['walkDistance'] >= 10000].index\n",
        "raw_data.drop(drop_index_7, inplace=True)\n",
        "# 수영이동거리 2000m 이상 데이터 삭제 \n",
        "drop_index_8 = raw_data[raw_data['swimDistance'] >= 2000].index\n",
        "raw_data.drop(drop_index_8, inplace=True)\n",
        "# 무기습득횟수 50번 이상 데이터 삭제\n",
        "drop_index_9 = raw_data[raw_data['weaponsAcquired'] >= 50].index\n",
        "raw_data.drop(drop_index_9, inplace=True)\n",
        "# 차량이동거리 0 인데 로드킬 한 데이터 삭제 \n",
        "drop_index_10 = raw_data[(raw_data['roadKills'] >= 1) & (raw_data['rideDistance'] == 0)].index\n",
        "raw_data.drop(drop_index_10, inplace=True)"
      ]
    },
    {
      "cell_type": "code",
      "execution_count": null,
      "metadata": {
        "id": "DZwqnbciNPHf"
      },
      "outputs": [],
      "source": [
        "raw_data['HeadshotKills_perc'] = raw_data['headshotKills'] / (raw_data['kills'] + 1)  # 헤드샷킬 확률\n",
        "raw_data['BattlePoints'] = raw_data['kills']*4 + raw_data['DBNOs']*2 + raw_data['assists']  # 전투포인트\n",
        "raw_data['MedicalPoints'] = raw_data['boosts'] + raw_data['heals'] + raw_data['revives']    # 메디컬포인트\n",
        "raw_data['TotalDistance'] = raw_data['rideDistance'] + raw_data['swimDistance'] + raw_data['walkDistance']  # 총 이동거리 \n",
        "raw_data['Kills_per_time'] = raw_data['kills'] / (raw_data['matchDuration']+ 1)   # 초당 킬수\n",
        "raw_data['Boost_per_time'] = raw_data['boosts'] / (raw_data['matchDuration'] + 1)  # 초당 도핑 횟수\n",
        "raw_data['Teamwork'] = raw_data['assists'] + raw_data['revives']                       # 팀워크 정수 \n",
        "raw_data['BattlePoints_per_distance'] = raw_data['BattlePoints'] / (raw_data['walkDistance'] + 1)   # 거리 당 전투포인트 \n",
        "raw_data['boost_heals'] = raw_data['boosts'] + raw_data['heals']                       # 순수 힐링 \n",
        "raw_data['After_combat'] = raw_data['damageDealt'] + raw_data['boost_heals']           # 전투 이후상황 \n",
        "raw_data['assists_per_kill'] = raw_data['assists'] / (raw_data['kills'] + raw_data['assists'] + 1)  # 킬 대비 어시 수 \n",
        "raw_data['road_kills_per_rideDistance'] = raw_data['roadKills'] / (raw_data['rideDistance'] + 1)  # 차량이동거리당 로드킬 비율 \n",
        "\n",
        "raw_data[raw_data == np.Inf] = np.NaN    ## 무한대 값 처리하기 \n",
        "raw_data[raw_data == np.NINF] = np.NaN\n",
        "\n",
        "idx = raw_data[raw_data['BattlePoints_per_distance'].isna() == True].index\n",
        "raw_data = raw_data.drop(idx, axis=0)\n",
        "raw_data = raw_data.dropna(axis=0)\n",
        "\n",
        "# 헤드샷킬 확률 100% 데이터 중 킬 수 5킬 이상인 경우 삭제(핵 사용 유저)\n",
        "drop_index_10 = raw_data[(raw_data['HeadshotKills_perc'] == 1) & (raw_data['kills'] >= 5)].index\n",
        "raw_data.drop(drop_index_10, inplace=True)"
      ]
    },
    {
      "cell_type": "markdown",
      "source": [
        "## 3) 정규화 및 범주형 변수 매핑"
      ],
      "metadata": {
        "id": "L2AmthQiBewV"
      }
    },
    {
      "cell_type": "code",
      "source": [
        "df = raw_data.copy()\n",
        "\n",
        "# winPlacePerc --> 실제 등수로 바꾸는 수식 \n",
        "# df['target'] = round((1 - df['winPlacePerc']) * df['maxPlace'] + df['winPlacePerc'])\n",
        "\n",
        "# 매치 타입(범주형 변수) 매핑\n",
        "index = {\"solo\": 0,\n",
        "         \"duo\": 1,\n",
        "         \"squad\": 2,\n",
        "         \"solo-fpp\": 3,\n",
        "         \"duo-fpp\": 4,\n",
        "         \"squad-fpp\": 5,\n",
        "         \"normal-squad-fpp\": 6,\n",
        "         \"flaretpp\": 7,\n",
        "         \"normal-duo-fpp\": 8,\n",
        "         \"normal-squad\": 9,\n",
        "         \"crashfpp\": 10,\n",
        "         \"normal-solo-fpp\": 11,\n",
        "         \"crashtpp\": 12,\n",
        "         \"normal-solo\": 13,\n",
        "         \"flarefpp\": 14,\n",
        "         \"normal-duo\": 15\n",
        "         }\n",
        "df['matchType_num'] = df['matchType'].map(lambda x: index[x])\n",
        "\n",
        "# 사용할 feature \n",
        "cols = ['assists','boosts','damageDealt','DBNOs','headshotKills','matchType_num','heals', 'killPlace','kills','killStreaks','longestKill','matchDuration', 'killPoints', 'rankPoints', 'winPoints',\n",
        "        'maxPlace','numGroups','revives','rideDistance','roadKills','walkDistance', 'swimDistance','teamKills','vehicleDestroys','HeadshotKills_perc','BattlePoints','MedicalPoints',\n",
        "        'TotalDistance','Kills_per_time','Boost_per_time','Teamwork', 'BattlePoints_per_distance', 'After_combat','boost_heals', 'assists_per_kill', 'road_kills_per_rideDistance', 'winPlacePerc']\n",
        "\n",
        "# 그룹별로 묶어서 정규화할 feature(팀으로 순위에 끼치는 영향이 큰 feature)\n",
        "group_cols = ['assists','boosts','damageDealt','DBNOs','heals', 'killPlace','kills','killStreaks','revives','rideDistance','roadKills', 'walkDistance', 'swimDistance',\n",
        "        'teamKills','vehicleDestroys','BattlePoints','MedicalPoints','TotalDistance','Kills_per_time','Boost_per_time','Teamwork','BattlePoints_per_distance',\n",
        "        'road_kills_per_rideDistance','assists_per_kill',]\n",
        "# 전체 데이터를 기준으로 정규화할 feature(개인 역량이 더 중요한 feature)\n",
        "non_group_cols = ['headshotKills', 'matchType_num','longestKill','matchDuration', 'maxPlace', 'numGroups', 'HeadshotKills_perc','After_combat','boost_heals', 'killPoints', 'rankPoints', 'winPoints']\n",
        "\n",
        "# 데이터셋 그룹화 후 평균치 사용 \n",
        "data = df.groupby(['groupId','matchId']).mean()\n",
        "\n",
        "# 그룹별 컬럼 정규화\n",
        "def group_normalize(data):\n",
        "    copyed = data.copy()\n",
        "    mean = copyed.groupby('matchId').mean()\n",
        "    std = copyed.groupby('matchId').std()\n",
        "    std.fillna(1)  # 표준편차 Null 값은 1로 채우기 \n",
        "    copyed[group_cols ]= (copyed[group_cols] - mean[group_cols]) / (std[group_cols] + 1e-8)\n",
        "    \n",
        "    return copyed\n",
        "\n",
        "data = group_normalize(data)\n",
        "\n",
        "# 전체 기준 정규화 \n",
        "def whole_normalize(data):\n",
        "    copyed = data.copy()\n",
        "    idx = df[non_group_cols].describe().transpose()\n",
        "    copyed[non_group_cols] = (copyed[non_group_cols] - idx['mean']) / idx['std']\n",
        "\n",
        "    return copyed\n",
        "\n",
        "data = whole_normalize(data)\n",
        "data = data[cols]\n",
        "data = data.fillna(0)\n",
        "\n",
        "# train 셋과 test 셋으로 분리 \n",
        "from sklearn.model_selection import train_test_split\n",
        "\n",
        "train, test = train_test_split(data, test_size=0.2, shuffle=True, random_state=42)\n",
        "\n",
        "train.to_csv('/content/drive/MyDrive/project1/train.csv')\n",
        "test.to_csv('/content/drive/MyDrive/project1/test.csv')"
      ],
      "metadata": {
        "id": "fci_Q8WsBijT"
      },
      "execution_count": null,
      "outputs": []
    }
  ],
  "metadata": {
    "colab": {
      "collapsed_sections": [
        "CN0F-W0WWxoh",
        "qNpAbH3JNPHc",
        "fW9I5CGXW2Ug",
        "KzJtV8ALXfRT",
        "ACH3nyAHvFFx",
        "k0PPmaiwz4tI",
        "2-vNPipE5dqt",
        "RFcq6eXNmaQo",
        "jSXKrt17veH2"
      ],
      "machine_shape": "hm",
      "name": "Preprocess.ipynb",
      "provenance": [],
      "mount_file_id": "1XcoFlh_OTEu3YBEVUZ5zbmX808LGM6js",
      "authorship_tag": "ABX9TyNcf9FWBb7LAEpQRTynYZeK",
      "include_colab_link": true
    },
    "kernelspec": {
      "display_name": "Python 3",
      "name": "python3"
    },
    "language_info": {
      "name": "python"
    }
  },
  "nbformat": 4,
  "nbformat_minor": 0
}