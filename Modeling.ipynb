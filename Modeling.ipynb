{
  "cells": [
    {
      "cell_type": "markdown",
      "metadata": {
        "id": "view-in-github",
        "colab_type": "text"
      },
      "source": [
        "<a href=\"https://colab.research.google.com/github/ohilikeit/PUBG_dataset_project/blob/main/Modeling.ipynb\" target=\"_parent\"><img src=\"https://colab.research.google.com/assets/colab-badge.svg\" alt=\"Open In Colab\"/></a>"
      ]
    },
    {
      "cell_type": "markdown",
      "metadata": {
        "id": "qMMqSXuEAyRs"
      },
      "source": [
        "# Modeling"
      ]
    },
    {
      "cell_type": "markdown",
      "metadata": {
        "id": "b_qQCO-0Irpl"
      },
      "source": [
        "## 1) 모델 선언 및 학습"
      ]
    },
    {
      "cell_type": "code",
      "source": [
        "! pip install tensorflow_addons"
      ],
      "metadata": {
        "colab": {
          "base_uri": "https://localhost:8080/"
        },
        "id": "2iVXEuUDoVIo",
        "outputId": "9dae528b-07bc-430c-c7cb-2d837c520dcb"
      },
      "execution_count": null,
      "outputs": [
        {
          "output_type": "stream",
          "name": "stdout",
          "text": [
            "Collecting keras_radam\n",
            "  Downloading keras-radam-0.15.0.tar.gz (11 kB)\n",
            "Requirement already satisfied: numpy in /usr/local/lib/python3.7/dist-packages (from keras_radam) (1.21.6)\n",
            "Requirement already satisfied: Keras in /usr/local/lib/python3.7/dist-packages (from keras_radam) (2.8.0)\n",
            "Building wheels for collected packages: keras-radam\n",
            "  Building wheel for keras-radam (setup.py) ... \u001b[?25l\u001b[?25hdone\n",
            "  Created wheel for keras-radam: filename=keras_radam-0.15.0-py3-none-any.whl size=14686 sha256=7f47c5d3cc19b16bad2a33e278cee5197bf76324f3609b036ae90a449a6223e5\n",
            "  Stored in directory: /root/.cache/pip/wheels/23/6a/5f/d674f3b7b4d504b03148abd675e3703ba00c31763c04a2fc20\n",
            "Successfully built keras-radam\n",
            "Installing collected packages: keras-radam\n",
            "Successfully installed keras-radam-0.15.0\n"
          ]
        }
      ]
    },
    {
      "cell_type": "code",
      "source": [
        "import os\n",
        "import numpy as np\n",
        "import warnings\n",
        "warnings.filterwarnings(action='ignore') # 경고 메세지 숨김\n",
        "import pandas as pd\n",
        "import seaborn as sns\n",
        "import tensorflow as tf\n",
        "import matplotlib.pyplot as plt\n",
        "from tensorflow_addons.optimizers import AdamW\n",
        "import tensorflow.keras as keras\n",
        "from tensorflow.keras import regularizers\n",
        "from sklearn.model_selection import train_test_split\n",
        "from keras.layers import *\n",
        "from keras.models import *\n",
        "from keras.optimizers import *\n",
        "from keras.callbacks import *\n",
        "from keras import backend as K\n",
        "from sklearn.metrics import mean_absolute_error\n",
        "from keras_radam import RAdam\n",
        "np.random.seed(42)\n",
        "tf.random.set_seed(42)\n",
        "\n",
        "train = pd.read_csv('/content/drive/MyDrive/project1/train.csv')\n",
        "train.drop(['groupId', 'matchId'], axis=1, inplace=True)\n",
        "test = pd.read_csv('/content/drive/MyDrive/project1/test.csv')\n",
        "test.drop(['groupId', 'matchId'], axis=1, inplace=True)"
      ],
      "metadata": {
        "id": "CGN6DkwMnhSq"
      },
      "execution_count": null,
      "outputs": []
    },
    {
      "cell_type": "code",
      "source": [
        "# 학습 및 validation 셋 생성 \n",
        "X = train.drop('winPlacePerc', axis=1)\n",
        "y = train['winPlacePerc']\n",
        "X_train, X_val, y_train, y_val = train_test_split(X, y, test_size=0.2, shuffle=True, random_state=42)\n",
        "\n",
        "# 평가지표 정의\n",
        "def NMAE(true, pred):\n",
        "    mae = np.mean(np.abs(true-pred))\n",
        "    score = mae / np.mean(np.abs(true))\n",
        "    return score\n",
        "\n",
        "# custom NMAE\n",
        "def custom_NMAE(y_true, y_pred):\n",
        "    mapes = K.switch(K.equal(y_true, 0), y_true, K.abs(y_true - y_pred)/y_true)\n",
        "    return K.mean(mapes, axis=-1)\n",
        "\n",
        "# model 생성\n",
        "def create_model():\n",
        "    model = keras.Sequential(\n",
        "        [       \n",
        "         Dense(units=256, activation='elu', input_shape=(X.shape[1], ), kernel_initializer='he_normal'), #\n",
        "         BatchNormalization(),\n",
        "         Dense(units=256, activation='elu'),\n",
        "         BatchNormalization(),\n",
        "         Dropout(0.2),\n",
        "\n",
        "         Dense(units=128, activation='elu'),\n",
        "         BatchNormalization(),        \n",
        "         Dense(units=128, activation='elu'),\n",
        "         BatchNormalization(),\n",
        "         Dropout(0.2),\n",
        "\n",
        "         Dense(units=64, activation='elu'),\n",
        "         BatchNormalization(),        \n",
        "         Dense(units=64, activation='elu'),\n",
        "         BatchNormalization(),\n",
        "         Dropout(0.2),\n",
        "\n",
        "         Dense(units=32, activation='elu'),\n",
        "         Dense(units=16, activation='elu'),\n",
        "         Dense(units=1, activation='elu', kernel_regularizer=regularizers.l2(0.001)) # \n",
        "        ]\n",
        "    )\n",
        "    return model\n",
        "\n",
        "# https://stackoverflow.com/questions/69882263/tf-keras-callbacks-modelcheckpoint-type-error-unable-to-serialize-1-0000000656\n",
        "class MyExponentialDecay(tf.keras.optimizers.schedules.ExponentialDecay):\n",
        "  def __call__(self, step):\n",
        "    return 1e-2 * super().__call__(step)\n",
        "\n",
        "def call_model(batch_size, learning_rate):\n",
        "        wd = MyExponentialDecay(0.001, decay_steps=14, decay_rate=0.8, staircase=True)\n",
        "        optimizer = AdamW(learning_rate=learning_rate, weight_decay=wd)\n",
        "        lr = ReduceLROnPlateau(monitor = 'val_custom_NMAE',\n",
        "                               factor = 0.2,\n",
        "                               patience = 5,\n",
        "                               verbose=1,\n",
        "                               mode = 'min')\n",
        "        es = EarlyStopping(monitor = 'val_custom_NMAE',\n",
        "                           patience = 15,\n",
        "                           mode = 'min')\n",
        "        cp = ModelCheckpoint(filepath = '/content/drive/MyDrive/project1/best.h5',\n",
        "                             monitor = 'val_custom_NMAE',\n",
        "                             verbose = 0,\n",
        "                             save_best_only = True,\n",
        "                             save_weights_only= True,\n",
        "                             save_freq = 'epoch',\n",
        "                             mode = 'auto')\n",
        "        \n",
        "        model = create_model()\n",
        "        model.compile(optimizer = optimizer, loss = 'mean_absolute_error', metrics=custom_NMAE)\n",
        "        history = model.fit(X_train, y_train,\n",
        "                            epochs = 300,\n",
        "                            batch_size = batch_size,\n",
        "                            validation_data = (X_val, y_val),\n",
        "                            verbose=1,\n",
        "                            callbacks = [es, cp, lr])\n",
        "\n",
        "        return history, model"
      ],
      "metadata": {
        "id": "zxsvBBEdWRfL"
      },
      "execution_count": null,
      "outputs": []
    },
    {
      "cell_type": "code",
      "source": [
        "history, model = call_model(batch_size = 512,\n",
        "                            learning_rate = 0.001)"
      ],
      "metadata": {
        "id": "SwdD6xOmYeIh",
        "colab": {
          "base_uri": "https://localhost:8080/"
        },
        "outputId": "754866a4-ce52-4857-a776-09738aac958a"
      },
      "execution_count": null,
      "outputs": [
        {
          "output_type": "stream",
          "name": "stdout",
          "text": [
            "Epoch 1/300\n",
            "1089/1089 [==============================] - 14s 10ms/step - loss: 0.0990 - custom_NMAE: 0.3576 - val_loss: 0.0703 - val_custom_NMAE: 0.2472 - lr: 0.0010\n",
            "Epoch 2/300\n",
            "1089/1089 [==============================] - 10s 9ms/step - loss: 0.0737 - custom_NMAE: 0.2531 - val_loss: 0.0680 - val_custom_NMAE: 0.2246 - lr: 0.0010\n",
            "Epoch 3/300\n",
            "1089/1089 [==============================] - 9s 9ms/step - loss: 0.0714 - custom_NMAE: 0.2450 - val_loss: 0.0695 - val_custom_NMAE: 0.2264 - lr: 0.0010\n",
            "Epoch 4/300\n",
            "1089/1089 [==============================] - 9s 9ms/step - loss: 0.0702 - custom_NMAE: 0.2404 - val_loss: 0.0684 - val_custom_NMAE: 0.2563 - lr: 0.0010\n",
            "Epoch 5/300\n",
            "1089/1089 [==============================] - 10s 9ms/step - loss: 0.0691 - custom_NMAE: 0.2365 - val_loss: 0.0668 - val_custom_NMAE: 0.2197 - lr: 0.0010\n",
            "Epoch 6/300\n",
            "1089/1089 [==============================] - 10s 9ms/step - loss: 0.0685 - custom_NMAE: 0.2347 - val_loss: 0.0670 - val_custom_NMAE: 0.2146 - lr: 0.0010\n",
            "Epoch 7/300\n",
            "1089/1089 [==============================] - 9s 9ms/step - loss: 0.0680 - custom_NMAE: 0.2326 - val_loss: 0.0648 - val_custom_NMAE: 0.2220 - lr: 0.0010\n",
            "Epoch 8/300\n",
            "1089/1089 [==============================] - 9s 9ms/step - loss: 0.0675 - custom_NMAE: 0.2316 - val_loss: 0.0686 - val_custom_NMAE: 0.2896 - lr: 0.0010\n",
            "Epoch 9/300\n",
            "1089/1089 [==============================] - 10s 9ms/step - loss: 0.0672 - custom_NMAE: 0.2303 - val_loss: 0.0647 - val_custom_NMAE: 0.2137 - lr: 0.0010\n",
            "Epoch 10/300\n",
            "1089/1089 [==============================] - 9s 9ms/step - loss: 0.0667 - custom_NMAE: 0.2286 - val_loss: 0.0650 - val_custom_NMAE: 0.2246 - lr: 0.0010\n",
            "Epoch 11/300\n",
            "1089/1089 [==============================] - 9s 9ms/step - loss: 0.0665 - custom_NMAE: 0.2283 - val_loss: 0.0645 - val_custom_NMAE: 0.2194 - lr: 0.0010\n",
            "Epoch 12/300\n",
            "1089/1089 [==============================] - 9s 9ms/step - loss: 0.0662 - custom_NMAE: 0.2273 - val_loss: 0.0645 - val_custom_NMAE: 0.2158 - lr: 0.0010\n",
            "Epoch 13/300\n",
            "1089/1089 [==============================] - 10s 9ms/step - loss: 0.0659 - custom_NMAE: 0.2265 - val_loss: 0.0649 - val_custom_NMAE: 0.2243 - lr: 0.0010\n",
            "Epoch 14/300\n",
            "1085/1089 [============================>.] - ETA: 0s - loss: 0.0657 - custom_NMAE: 0.2260\n",
            "Epoch 14: ReduceLROnPlateau reducing learning rate to 0.00020000000949949026.\n",
            "1089/1089 [==============================] - 10s 9ms/step - loss: 0.0657 - custom_NMAE: 0.2260 - val_loss: 0.0641 - val_custom_NMAE: 0.2284 - lr: 0.0010\n",
            "Epoch 15/300\n",
            "1089/1089 [==============================] - 10s 9ms/step - loss: 0.0645 - custom_NMAE: 0.2217 - val_loss: 0.0628 - val_custom_NMAE: 0.2210 - lr: 2.0000e-04\n",
            "Epoch 16/300\n",
            "1089/1089 [==============================] - 10s 9ms/step - loss: 0.0643 - custom_NMAE: 0.2208 - val_loss: 0.0628 - val_custom_NMAE: 0.2143 - lr: 2.0000e-04\n",
            "Epoch 17/300\n",
            "1089/1089 [==============================] - 10s 9ms/step - loss: 0.0642 - custom_NMAE: 0.2209 - val_loss: 0.0627 - val_custom_NMAE: 0.2139 - lr: 2.0000e-04\n",
            "Epoch 18/300\n",
            "1089/1089 [==============================] - 10s 9ms/step - loss: 0.0641 - custom_NMAE: 0.2202 - val_loss: 0.0632 - val_custom_NMAE: 0.2158 - lr: 2.0000e-04\n",
            "Epoch 19/300\n",
            "1087/1089 [============================>.] - ETA: 0s - loss: 0.0640 - custom_NMAE: 0.2205\n",
            "Epoch 19: ReduceLROnPlateau reducing learning rate to 4.0000001899898055e-05.\n",
            "1089/1089 [==============================] - 10s 9ms/step - loss: 0.0640 - custom_NMAE: 0.2205 - val_loss: 0.0627 - val_custom_NMAE: 0.2195 - lr: 2.0000e-04\n",
            "Epoch 20/300\n",
            "1089/1089 [==============================] - 10s 9ms/step - loss: 0.0638 - custom_NMAE: 0.2193 - val_loss: 0.0625 - val_custom_NMAE: 0.2139 - lr: 4.0000e-05\n",
            "Epoch 21/300\n",
            "1089/1089 [==============================] - 10s 9ms/step - loss: 0.0638 - custom_NMAE: 0.2193 - val_loss: 0.0625 - val_custom_NMAE: 0.2180 - lr: 4.0000e-05\n",
            "Epoch 22/300\n",
            "1089/1089 [==============================] - 10s 9ms/step - loss: 0.0637 - custom_NMAE: 0.2193 - val_loss: 0.0625 - val_custom_NMAE: 0.2157 - lr: 4.0000e-05\n",
            "Epoch 23/300\n",
            "1089/1089 [==============================] - 10s 9ms/step - loss: 0.0637 - custom_NMAE: 0.2191 - val_loss: 0.0625 - val_custom_NMAE: 0.2129 - lr: 4.0000e-05\n",
            "Epoch 24/300\n",
            "1089/1089 [==============================] - 10s 9ms/step - loss: 0.0637 - custom_NMAE: 0.2188 - val_loss: 0.0625 - val_custom_NMAE: 0.2131 - lr: 4.0000e-05\n",
            "Epoch 25/300\n",
            "1089/1089 [==============================] - 10s 9ms/step - loss: 0.0637 - custom_NMAE: 0.2191 - val_loss: 0.0625 - val_custom_NMAE: 0.2155 - lr: 4.0000e-05\n",
            "Epoch 26/300\n",
            "1089/1089 [==============================] - 10s 9ms/step - loss: 0.0637 - custom_NMAE: 0.2194 - val_loss: 0.0625 - val_custom_NMAE: 0.2144 - lr: 4.0000e-05\n",
            "Epoch 27/300\n",
            "1089/1089 [==============================] - 10s 9ms/step - loss: 0.0636 - custom_NMAE: 0.2191 - val_loss: 0.0625 - val_custom_NMAE: 0.2137 - lr: 4.0000e-05\n",
            "Epoch 28/300\n",
            "1084/1089 [============================>.] - ETA: 0s - loss: 0.0636 - custom_NMAE: 0.2193\n",
            "Epoch 28: ReduceLROnPlateau reducing learning rate to 8.000000525498762e-06.\n",
            "1089/1089 [==============================] - 10s 9ms/step - loss: 0.0636 - custom_NMAE: 0.2193 - val_loss: 0.0625 - val_custom_NMAE: 0.2149 - lr: 4.0000e-05\n",
            "Epoch 29/300\n",
            "1089/1089 [==============================] - 10s 9ms/step - loss: 0.0636 - custom_NMAE: 0.2190 - val_loss: 0.0624 - val_custom_NMAE: 0.2155 - lr: 8.0000e-06\n",
            "Epoch 30/300\n",
            "1089/1089 [==============================] - 10s 9ms/step - loss: 0.0636 - custom_NMAE: 0.2192 - val_loss: 0.0624 - val_custom_NMAE: 0.2157 - lr: 8.0000e-06\n",
            "Epoch 31/300\n",
            "1089/1089 [==============================] - 9s 9ms/step - loss: 0.0636 - custom_NMAE: 0.2190 - val_loss: 0.0624 - val_custom_NMAE: 0.2164 - lr: 8.0000e-06\n",
            "Epoch 32/300\n",
            "1089/1089 [==============================] - 9s 9ms/step - loss: 0.0636 - custom_NMAE: 0.2189 - val_loss: 0.0624 - val_custom_NMAE: 0.2166 - lr: 8.0000e-06\n",
            "Epoch 33/300\n",
            "1086/1089 [============================>.] - ETA: 0s - loss: 0.0635 - custom_NMAE: 0.2187\n",
            "Epoch 33: ReduceLROnPlateau reducing learning rate to 1.6000001778593287e-06.\n",
            "1089/1089 [==============================] - 10s 9ms/step - loss: 0.0635 - custom_NMAE: 0.2187 - val_loss: 0.0624 - val_custom_NMAE: 0.2162 - lr: 8.0000e-06\n",
            "Epoch 34/300\n",
            "1089/1089 [==============================] - 10s 9ms/step - loss: 0.0635 - custom_NMAE: 0.2188 - val_loss: 0.0624 - val_custom_NMAE: 0.2155 - lr: 1.6000e-06\n",
            "Epoch 35/300\n",
            "1089/1089 [==============================] - 9s 9ms/step - loss: 0.0636 - custom_NMAE: 0.2186 - val_loss: 0.0624 - val_custom_NMAE: 0.2156 - lr: 1.6000e-06\n",
            "Epoch 36/300\n",
            "1089/1089 [==============================] - 9s 9ms/step - loss: 0.0636 - custom_NMAE: 0.2187 - val_loss: 0.0624 - val_custom_NMAE: 0.2148 - lr: 1.6000e-06\n",
            "Epoch 37/300\n",
            "1089/1089 [==============================] - 10s 9ms/step - loss: 0.0636 - custom_NMAE: 0.2194 - val_loss: 0.0624 - val_custom_NMAE: 0.2162 - lr: 1.6000e-06\n",
            "Epoch 38/300\n",
            "1086/1089 [============================>.] - ETA: 0s - loss: 0.0635 - custom_NMAE: 0.2187\n",
            "Epoch 38: ReduceLROnPlateau reducing learning rate to 3.200000264769187e-07.\n",
            "1089/1089 [==============================] - 10s 9ms/step - loss: 0.0635 - custom_NMAE: 0.2187 - val_loss: 0.0624 - val_custom_NMAE: 0.2149 - lr: 1.6000e-06\n"
          ]
        }
      ]
    },
    {
      "cell_type": "markdown",
      "source": [
        "## 2) 학습 곡선 그리기"
      ],
      "metadata": {
        "id": "J1IOjmgbSBmO"
      }
    },
    {
      "cell_type": "code",
      "source": [
        "# 모델 학습 후 정보가 담긴 history 내용을 토대로 선 그래프를 그리는 함수 설정\n",
        "\n",
        "def plot_acc(history, title=None):        # custom_NMAE(정확도) Visualization\n",
        "    # summarize history for custom_NMAE\n",
        "    if not isinstance(history, dict):\n",
        "        history = history.history\n",
        "\n",
        "    plt.plot(history['custom_NMAE'])        # custom_NMAE\n",
        "    plt.plot(history['val_custom_NMAE'])    # validation custom_NMAE\n",
        "    if title is not None:\n",
        "        plt.title(title)\n",
        "    plt.ylabel('custom_NMAE')\n",
        "    plt.xlabel('Epoch')\n",
        "    plt.legend(['Training data', 'Validation data'], loc=0)\n",
        "    # plt.show()\n",
        "\n",
        "def plot_loss(history, title=None):     # Loss Visualization\n",
        "    # summarize history for loss\n",
        "    if not isinstance(history, dict):\n",
        "        history = history.history\n",
        "\n",
        "    plt.plot(history['loss'])           # loss\n",
        "    plt.plot(history['val_loss'])       # validation\n",
        "    if title is not None:\n",
        "        plt.title(title)\n",
        "    plt.ylabel('Loss')\n",
        "    plt.xlabel('Epoch')\n",
        "    plt.legend(['Training data', 'Validation data'], loc=0)\n",
        "    # plt.show()"
      ],
      "metadata": {
        "id": "k8UYp_zU0gm_"
      },
      "execution_count": null,
      "outputs": []
    },
    {
      "cell_type": "code",
      "source": [
        "plot_acc(history, '(a) custom_NMAE')  # 학습 경과에 따른 정확도 변화 추이\n",
        "plt.show()\n",
        "plot_loss(history, '(b) Loss')     # 학습 경과에 따른 손실값 변화 추이\n",
        "plt.show()"
      ],
      "metadata": {
        "colab": {
          "base_uri": "https://localhost:8080/",
          "height": 573
        },
        "id": "lweUs-1c0iNz",
        "outputId": "475bfce6-6ba4-4e25-c0eb-80649aac6f3f"
      },
      "execution_count": null,
      "outputs": [
        {
          "output_type": "display_data",
          "data": {
            "text/plain": [
              "<Figure size 432x288 with 1 Axes>"
            ],
            "image/png": "[encoded data removed]"
          },
          "metadata": {
            "needs_background": "light"
          }
        },
        {
          "output_type": "display_data",
          "data": {
            "text/plain": [
              "<Figure size 432x288 with 1 Axes>"
            ],
            "image/png": "[encoded data removed]"
          },
          "metadata": {
            "needs_background": "light"
          }
        }
      ]
    },
    {
      "cell_type": "markdown",
      "source": [
        "## 3) test셋 검증"
      ],
      "metadata": {
        "id": "-afRXppASIBt"
      }
    },
    {
      "cell_type": "code",
      "source": [
        "# 평가지표 정의\n",
        "def NMAE(true, pred):\n",
        "    mae = np.mean(np.abs(true-pred))\n",
        "    score = mae / np.mean(np.abs(true))\n",
        "    return score\n",
        "\n",
        "# test셋으로 성능 확인\n",
        "X_test = test.drop('winPlacePerc', axis=1)\n",
        "y_test = test['winPlacePerc']\n",
        "preds = model.predict(X_test)\n",
        "y_test = y_test.values.reshape(174094,1)\n",
        "\n",
        "nmae = NMAE(y_test, preds)\n",
        "print('모델의 NMAE 값 : ', nmae)"
      ],
      "metadata": {
        "id": "p4vk0ZtNsPn5",
        "colab": {
          "base_uri": "https://localhost:8080/"
        },
        "outputId": "59c564ba-fdfb-48b2-ac3e-55ff9dd731e1"
      },
      "execution_count": null,
      "outputs": [
        {
          "output_type": "stream",
          "name": "stdout",
          "text": [
            "모델의 NMAE 값 :  0.1273512034406245\n"
          ]
        }
      ]
    }
  ],
  "metadata": {
    "accelerator": "GPU",
    "colab": {
      "collapsed_sections": [],
      "machine_shape": "hm",
      "name": "Modeling.ipynb",
      "provenance": [],
      "mount_file_id": "1XcoFlh_OTEu3YBEVUZ5zbmX808LGM6js",
      "authorship_tag": "ABX9TyNbZH5Pc5A21XUZJQWH6rnV",
      "include_colab_link": true
    },
    "kernelspec": {
      "display_name": "Python 3",
      "name": "python3"
    },
    "language_info": {
      "name": "python"
    }
  },
  "nbformat": 4,
  "nbformat_minor": 0
}